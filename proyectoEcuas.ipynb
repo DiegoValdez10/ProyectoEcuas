{
 "cells": [
  {
   "cell_type": "code",
   "execution_count": 1,
   "metadata": {},
   "outputs": [],
   "source": [
    "#Analisis Exploratorio\n",
    "import numpy as Np\n",
    "import pandas as pd\n",
    "import matplotlib.pyplot as plt\n",
    "import seaborn as sns"
   ]
  },
  {
   "cell_type": "code",
   "execution_count": 3,
   "metadata": {},
   "outputs": [],
   "source": [
    "df = pd.read_csv(\"hardwareStore.csv\", sep = \",\")"
   ]
  },
  {
   "cell_type": "code",
   "execution_count": 4,
   "metadata": {},
   "outputs": [
    {
     "data": {
      "text/html": [
       "<div>\n",
       "<style scoped>\n",
       "    .dataframe tbody tr th:only-of-type {\n",
       "        vertical-align: middle;\n",
       "    }\n",
       "\n",
       "    .dataframe tbody tr th {\n",
       "        vertical-align: top;\n",
       "    }\n",
       "\n",
       "    .dataframe thead th {\n",
       "        text-align: right;\n",
       "    }\n",
       "</style>\n",
       "<table border=\"1\" class=\"dataframe\">\n",
       "  <thead>\n",
       "    <tr style=\"text-align: right;\">\n",
       "      <th></th>\n",
       "      <th>CATEGORY_ID</th>\n",
       "      <th>CATEGORY_NAME</th>\n",
       "      <th>PRODUCT_ID</th>\n",
       "      <th>PRODUCT_NAME</th>\n",
       "      <th>DESCRIPTION</th>\n",
       "      <th>DESCRIPTION - Detail 1</th>\n",
       "      <th>DESCRIPTION - Detail 2</th>\n",
       "      <th>DESCRIPTION - Detail 3</th>\n",
       "      <th>DESCRIPTION - Detail 4</th>\n",
       "      <th>STANDARD_COST</th>\n",
       "      <th>...</th>\n",
       "      <th>REGION_ID</th>\n",
       "      <th>LOCATION_ID</th>\n",
       "      <th>WAREHOUSE_ID</th>\n",
       "      <th>QUANTITY</th>\n",
       "      <th>WAREHOUSE_NAME</th>\n",
       "      <th>ADDRESS</th>\n",
       "      <th>POSTAL_CODE</th>\n",
       "      <th>CITY</th>\n",
       "      <th>STATE</th>\n",
       "      <th>COUNTRY_NAME</th>\n",
       "    </tr>\n",
       "  </thead>\n",
       "  <tbody>\n",
       "    <tr>\n",
       "      <th>0</th>\n",
       "      <td>1</td>\n",
       "      <td>CPU</td>\n",
       "      <td>8</td>\n",
       "      <td>Intel Xeon E5-1650 V4</td>\n",
       "      <td>Speed:3.6GHz,Cores:6,TDP:140W</td>\n",
       "      <td>Speed:3.6GHz</td>\n",
       "      <td>Cores:6</td>\n",
       "      <td>TDP:140W</td>\n",
       "      <td>NaN</td>\n",
       "      <td>535.47</td>\n",
       "      <td>...</td>\n",
       "      <td>3</td>\n",
       "      <td>11</td>\n",
       "      <td>8</td>\n",
       "      <td>50</td>\n",
       "      <td>Beijing</td>\n",
       "      <td>40-5-12 Laogianggen</td>\n",
       "      <td>190518</td>\n",
       "      <td>Beijing</td>\n",
       "      <td>Shenzhen</td>\n",
       "      <td>China</td>\n",
       "    </tr>\n",
       "    <tr>\n",
       "      <th>1</th>\n",
       "      <td>1</td>\n",
       "      <td>CPU</td>\n",
       "      <td>8</td>\n",
       "      <td>Intel Xeon E5-1650 V4</td>\n",
       "      <td>Speed:3.6GHz,Cores:6,TDP:140W</td>\n",
       "      <td>Speed:3.6GHz</td>\n",
       "      <td>Cores:6</td>\n",
       "      <td>TDP:140W</td>\n",
       "      <td>NaN</td>\n",
       "      <td>535.47</td>\n",
       "      <td>...</td>\n",
       "      <td>3</td>\n",
       "      <td>12</td>\n",
       "      <td>9</td>\n",
       "      <td>36</td>\n",
       "      <td>Bombay</td>\n",
       "      <td>1298 Vileparle (E)</td>\n",
       "      <td>490231</td>\n",
       "      <td>Bombay</td>\n",
       "      <td>Maharashtra</td>\n",
       "      <td>India</td>\n",
       "    </tr>\n",
       "    <tr>\n",
       "      <th>2</th>\n",
       "      <td>1</td>\n",
       "      <td>CPU</td>\n",
       "      <td>8</td>\n",
       "      <td>Intel Xeon E5-1650 V4</td>\n",
       "      <td>Speed:3.6GHz,Cores:6,TDP:140W</td>\n",
       "      <td>Speed:3.6GHz</td>\n",
       "      <td>Cores:6</td>\n",
       "      <td>TDP:140W</td>\n",
       "      <td>NaN</td>\n",
       "      <td>535.47</td>\n",
       "      <td>...</td>\n",
       "      <td>2</td>\n",
       "      <td>6</td>\n",
       "      <td>2</td>\n",
       "      <td>97</td>\n",
       "      <td>San Francisco</td>\n",
       "      <td>2011 Interiors Blvd</td>\n",
       "      <td>99236</td>\n",
       "      <td>South San Francisco</td>\n",
       "      <td>California</td>\n",
       "      <td>United States of America</td>\n",
       "    </tr>\n",
       "    <tr>\n",
       "      <th>3</th>\n",
       "      <td>1</td>\n",
       "      <td>CPU</td>\n",
       "      <td>8</td>\n",
       "      <td>Intel Xeon E5-1650 V4</td>\n",
       "      <td>Speed:3.6GHz,Cores:6,TDP:140W</td>\n",
       "      <td>Speed:3.6GHz</td>\n",
       "      <td>Cores:6</td>\n",
       "      <td>TDP:140W</td>\n",
       "      <td>NaN</td>\n",
       "      <td>535.47</td>\n",
       "      <td>...</td>\n",
       "      <td>2</td>\n",
       "      <td>8</td>\n",
       "      <td>4</td>\n",
       "      <td>67</td>\n",
       "      <td>Seattle, Washington</td>\n",
       "      <td>2004 Charade Rd</td>\n",
       "      <td>98199</td>\n",
       "      <td>Seattle</td>\n",
       "      <td>Washington</td>\n",
       "      <td>United States of America</td>\n",
       "    </tr>\n",
       "    <tr>\n",
       "      <th>4</th>\n",
       "      <td>1</td>\n",
       "      <td>CPU</td>\n",
       "      <td>8</td>\n",
       "      <td>Intel Xeon E5-1650 V4</td>\n",
       "      <td>Speed:3.6GHz,Cores:6,TDP:140W</td>\n",
       "      <td>Speed:3.6GHz</td>\n",
       "      <td>Cores:6</td>\n",
       "      <td>TDP:140W</td>\n",
       "      <td>NaN</td>\n",
       "      <td>535.47</td>\n",
       "      <td>...</td>\n",
       "      <td>3</td>\n",
       "      <td>13</td>\n",
       "      <td>6</td>\n",
       "      <td>30</td>\n",
       "      <td>Sydney</td>\n",
       "      <td>12-98 Victoria Street</td>\n",
       "      <td>2901</td>\n",
       "      <td>Sydney</td>\n",
       "      <td>New South Wales</td>\n",
       "      <td>Australia</td>\n",
       "    </tr>\n",
       "  </tbody>\n",
       "</table>\n",
       "<p>5 rows × 22 columns</p>\n",
       "</div>"
      ],
      "text/plain": [
       "   CATEGORY_ID CATEGORY_NAME  PRODUCT_ID           PRODUCT_NAME  \\\n",
       "0            1           CPU           8  Intel Xeon E5-1650 V4   \n",
       "1            1           CPU           8  Intel Xeon E5-1650 V4   \n",
       "2            1           CPU           8  Intel Xeon E5-1650 V4   \n",
       "3            1           CPU           8  Intel Xeon E5-1650 V4   \n",
       "4            1           CPU           8  Intel Xeon E5-1650 V4   \n",
       "\n",
       "                     DESCRIPTION DESCRIPTION - Detail 1  \\\n",
       "0  Speed:3.6GHz,Cores:6,TDP:140W           Speed:3.6GHz   \n",
       "1  Speed:3.6GHz,Cores:6,TDP:140W           Speed:3.6GHz   \n",
       "2  Speed:3.6GHz,Cores:6,TDP:140W           Speed:3.6GHz   \n",
       "3  Speed:3.6GHz,Cores:6,TDP:140W           Speed:3.6GHz   \n",
       "4  Speed:3.6GHz,Cores:6,TDP:140W           Speed:3.6GHz   \n",
       "\n",
       "  DESCRIPTION - Detail 2 DESCRIPTION - Detail 3 DESCRIPTION - Detail 4  \\\n",
       "0                Cores:6               TDP:140W                    NaN   \n",
       "1                Cores:6               TDP:140W                    NaN   \n",
       "2                Cores:6               TDP:140W                    NaN   \n",
       "3                Cores:6               TDP:140W                    NaN   \n",
       "4                Cores:6               TDP:140W                    NaN   \n",
       "\n",
       "   STANDARD_COST  ...  REGION_ID LOCATION_ID  WAREHOUSE_ID  QUANTITY  \\\n",
       "0         535.47  ...          3          11             8        50   \n",
       "1         535.47  ...          3          12             9        36   \n",
       "2         535.47  ...          2           6             2        97   \n",
       "3         535.47  ...          2           8             4        67   \n",
       "4         535.47  ...          3          13             6        30   \n",
       "\n",
       "        WAREHOUSE_NAME                ADDRESS POSTAL_CODE  \\\n",
       "0              Beijing    40-5-12 Laogianggen      190518   \n",
       "1               Bombay     1298 Vileparle (E)      490231   \n",
       "2        San Francisco    2011 Interiors Blvd       99236   \n",
       "3  Seattle, Washington        2004 Charade Rd       98199   \n",
       "4               Sydney  12-98 Victoria Street        2901   \n",
       "\n",
       "                  CITY            STATE              COUNTRY_NAME  \n",
       "0              Beijing         Shenzhen                     China  \n",
       "1               Bombay      Maharashtra                     India  \n",
       "2  South San Francisco       California  United States of America  \n",
       "3              Seattle       Washington  United States of America  \n",
       "4               Sydney  New South Wales                 Australia  \n",
       "\n",
       "[5 rows x 22 columns]"
      ]
     },
     "execution_count": 4,
     "metadata": {},
     "output_type": "execute_result"
    }
   ],
   "source": [
    "df.head()"
   ]
  },
  {
   "cell_type": "code",
   "execution_count": 5,
   "metadata": {},
   "outputs": [
    {
     "name": "stdout",
     "output_type": "stream",
     "text": [
      "(1112, 22)\n"
     ]
    }
   ],
   "source": [
    "print(df.shape)"
   ]
  },
  {
   "cell_type": "code",
   "execution_count": 11,
   "metadata": {},
   "outputs": [
    {
     "data": {
      "text/plain": [
       "PRODUCT_ID\n",
       "175    9\n",
       "108    9\n",
       "123    9\n",
       "142    9\n",
       "105    9\n",
       "      ..\n",
       "247    1\n",
       "172    1\n",
       "170    1\n",
       "157    1\n",
       "173    1\n",
       "Name: count, Length: 208, dtype: int64"
      ]
     },
     "execution_count": 11,
     "metadata": {},
     "output_type": "execute_result"
    }
   ],
   "source": [
    "df.PRODUCT_ID.value_counts()"
   ]
  },
  {
   "cell_type": "code",
   "execution_count": 21,
   "metadata": {},
   "outputs": [
    {
     "data": {
      "image/png": "[encoded data removed]",
      "text/plain": [
       "<Figure size 1200x1600 with 1 Axes>"
      ]
     },
     "metadata": {},
     "output_type": "display_data"
    }
   ],
   "source": [
    "counts = df.PRODUCT_ID.value_counts()\n",
    "\n",
    "# Configurar el tamaño de la figura\n",
    "plt.figure(figsize=(12, 16))  # Cambiar la proporción para barras horizontales\n",
    "\n",
    "# Crear el gráfico de barras horizontal\n",
    "plt.barh(counts.index, counts.values, color=\"steelblue\", edgecolor=\"black\")\n",
    "\n",
    "# Etiquetas y título\n",
    "plt.title(\"Conteo de PRODUCT_ID\")\n",
    "plt.xlabel(\"Frecuencia\")\n",
    "plt.ylabel(\"ID del Producto\")\n",
    "\n",
    "# Ajustar diseño y mostrar la gráfica\n",
    "plt.tight_layout()\n",
    "plt.show()\n",
    "\n"
   ]
  },
  {
   "cell_type": "code",
   "execution_count": 19,
   "metadata": {},
   "outputs": [
    {
     "name": "stdout",
     "output_type": "stream",
     "text": [
      "Archivo 'counts.csv' creado exitosamente.\n"
     ]
    }
   ],
   "source": [
    "# Crear un DataFrame a partir de counts\n",
    "counts_df = counts.reset_index()\n",
    "counts_df.columns = ['PRODUCT_ID', 'FREQUENCY']  # Renombrar columnas para claridad\n",
    "\n",
    "# Guardar como archivo CSV\n",
    "counts_df.to_csv('counts.csv', index=False)\n",
    "\n",
    "print(\"Archivo 'counts.csv' creado exitosamente.\")\n"
   ]
  }
 ],
 "metadata": {
  "kernelspec": {
   "display_name": "Python 3",
   "language": "python",
   "name": "python3"
  },
  "language_info": {
   "codemirror_mode": {
    "name": "ipython",
    "version": 3
   },
   "file_extension": ".py",
   "mimetype": "text/x-python",
   "name": "python",
   "nbconvert_exporter": "python",
   "pygments_lexer": "ipython3",
   "version": "3.11.6"
  }
 },
 "nbformat": 4,
 "nbformat_minor": 2
}
